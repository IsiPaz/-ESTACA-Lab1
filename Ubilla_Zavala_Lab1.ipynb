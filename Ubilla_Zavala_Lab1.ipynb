{
  "nbformat": 4,
  "nbformat_minor": 0,
  "metadata": {
    "kernelspec": {
      "display_name": "Python 3",
      "language": "python",
      "name": "python3"
    },
    "language_info": {
      "codemirror_mode": {
        "name": "ipython",
        "version": 3
      },
      "file_extension": ".py",
      "mimetype": "text/x-python",
      "name": "python",
      "nbconvert_exporter": "python",
      "pygments_lexer": "ipython3",
      "version": "3.8.5"
    },
    "colab": {
      "name": "Ubilla_Zavala_Lab1.ipynb",
      "provenance": [],
      "collapsed_sections": []
    }
  },
  "cells": [
    {
      "cell_type": "markdown",
      "metadata": {
        "id": "RrctryNExuij"
      },
      "source": [
        "<img src=\"img/dilogo.png\" style=\"float:left;height:100px\"></th>\n",
        "<img src=\"img/usmlogo.png\" style=\"float:right;height:85px\"></th>\n",
        "<h1 align=\"center\">Laboratorio 1</h1>\n",
        "    <h2 align=\"center\">Profesores: Ricardo Ñanculef y Francisco Mena</h2>\n",
        "    <h2 align=\"center\">Ayudantes </h2>\n",
        "    <h2 align=\"center\">Jorge Ludueña | Axel Reyes </h2>\n",
        "    <h3 align=\"center\">jorge.luduena@sansano.usm.cl | axel.reyes@sansano.usm.cl</h3>  \n",
        "    <h3 align=\"center\">Isidora Ubilla Zavala; 201804581-0;</h3>\n",
        "    <h3 align=\"center\">2021-1</h3>"
      ]
    },
    {
      "cell_type": "markdown",
      "metadata": {
        "id": "iy7Oa8Qfxuio"
      },
      "source": [
        "# Link: https://youtu.be/sx08Y89nQXk\n"
      ]
    },
    {
      "cell_type": "markdown",
      "metadata": {
        "id": "czgyr9wqxuip"
      },
      "source": [
        "## Instrucciones\n",
        "\n",
        "La modalidad de trabajo será mediante el uso de jupyter notebook. El notebook debe ser desarrollado individualmente.\n",
        "\n",
        "La **modalidad de entrega será un archivo Apellido1_Apellido2_Lab1.zip** que contenga un notebook que incluya todas las preguntas con sus respectivas respuestas y el link a su video explicativo + un README que indique la forma correcta de ejecutar su notebook. El laboratorio debe ser trabajado en Python 3. Lea bien el enunciado.\n",
        "\n",
        "\n",
        "**Cualquier copia detectada implicará nota 0 en el laboratorio correspondiente y se notificará la situación al profesor.**\n"
      ]
    },
    {
      "cell_type": "markdown",
      "metadata": {
        "id": "U98HNgvsxuip"
      },
      "source": [
        "# Librerías"
      ]
    },
    {
      "cell_type": "code",
      "metadata": {
        "id": "LIGgIhTixuiq"
      },
      "source": [
        "import numpy as np\n",
        "import matplotlib.pyplot as plt\n",
        "import pandas as pd\n",
        "%matplotlib inline "
      ],
      "execution_count": 26,
      "outputs": []
    },
    {
      "cell_type": "markdown",
      "metadata": {
        "id": "aCcRWtCFxuiq"
      },
      "source": [
        "<p> Para generar números aleatorios, puede revisar la siguiente \n",
        "    <a href = https://numpy.org/doc/1.16/reference/routines.random.html > documentación </a> de Numpy\n",
        "</p>"
      ]
    },
    {
      "cell_type": "markdown",
      "metadata": {
        "id": "zqLyF_buxuiq"
      },
      "source": [
        "## Máquina de Rube Goldberg\n",
        "\n",
        "Una máquina de Rube Goldberg es un artefacto extremadamente complejo que realiza una tarea fácil. Usted, en su tiempo libre, decidió construir uno de estos artefactos que consta de 5 etapas:\n",
        "\n",
        "<ol>\n",
        "    <li>Lanza una bolita que rueda por un riel con una probabilidad de $\\dfrac{2}{5}$ de caerse</li>\n",
        "    <li>Después de rodar por el riel cae en una catapulta que la lanza en la dirección correcta el $60\\%$ de las veces</li>\n",
        "    <li>Impacta contra una tela que le frena el impulso y la hace caer sobre el interruptor de un ventilador, el $80\\%$ de las veces es capaz de activar el ventilador</li>\n",
        "    <li>Cuando el ventilador se activa empuja un barco de juguete en una fuente con agua hasta el otro extremo de esta para empujar otra bolita, el barco llega con suficiente impulso con una probabilidad de $\\dfrac{6}{9}$</li>\n",
        "    <li>Esta bolita rueda por otro riel y cae sobre el control remoto que enciende su televisor, en un $30\\%$ de las veces logra encenderlo</li>\n",
        "</ol>\n",
        "\n",
        ">a) Realice una simulación de la Máquina de Rube Goldberg descrita anteriormente y estime cuántas veces (en promedio) tendrá que poner en marcha su máquina hasta que resulte por primera vez. A su vez, haga un gráfico mostrando la probabilidad de no tener éxito en función del número de puestas en marcha de la máquina y comente."
      ]
    },
    {
      "cell_type": "markdown",
      "metadata": {
        "id": "qZrmbLZNrB0l"
      },
      "source": [
        "Primero se definen las funciones **generador_lanzamiento** y **checker**, ambas funciones necesarias para el desarrollo fundamental de la máquina.\n",
        "*   **generador_lanzamiento(a,b)** : Función que genera números al azar en el rango [a,b], entregados por parámetro.\n",
        "*   **checker(x,n)** : Función que chequea el éxito o fracaso de x según el límite indicado por n.\n",
        "\n"
      ]
    },
    {
      "cell_type": "code",
      "metadata": {
        "id": "4n7cIWolq5jp"
      },
      "source": [
        "#Función que genera lanzamientos al azar en el rango [a,b]\n",
        "def generador_lanzamiento(a,b):\n",
        "    lanzamiento = np.random.randint(a,b+1)\n",
        "    return lanzamiento\n",
        "\n",
        "#Función que chequea si x tiene éxito \n",
        "#o falla, n marca el limbo de exito o fracaso\n",
        "def checker(x,n):\n",
        "    resultado = False\n",
        "    if (x>n):\n",
        "        resultado = True\n",
        "    return resultado"
      ],
      "execution_count": 27,
      "outputs": []
    },
    {
      "cell_type": "markdown",
      "metadata": {
        "id": "wxk9mcLhuT1F"
      },
      "source": [
        "\n",
        "\n",
        "---\n",
        "\n",
        "\n",
        "Luego se definen las funciones **paso1, paso2, paso3, paso4, paso5**, cada una \n",
        "define el éxito o fracaso de cada etapa de la máquina, retornando True o False respectivamente. Sobre cada función se comenta la probabilidad de acertar y fallar.\n",
        "\n",
        "---\n",
        "\n"
      ]
    },
    {
      "cell_type": "code",
      "metadata": {
        "id": "QIEZuqurxuir"
      },
      "source": [
        "# PROB FALLAR = 2/5\n",
        "# PROB ACERTAR = 3/5\n",
        "def paso1():\n",
        "\n",
        "    #Limites\n",
        "    a = 1    # rango inferior\n",
        "    b = 5    # rango superior\n",
        "    c = 2    # limite de exito o fracaso\n",
        "    \n",
        "    x = generador_lanzamiento(a,b)  #Lanzamiento\n",
        "    flag = checker(x,c)             #Resultado\n",
        "    #print(\"1\",x,checker(x,c))\n",
        "    return flag\n",
        "\n",
        "# PROB FALLAR = 2/5\n",
        "# PROB ACERTAR = 3/5\n",
        "def paso2():\n",
        "\n",
        "    #Limites\n",
        "    a = 1    # rango inferior\n",
        "    b = 5    # rango superior\n",
        "    c = 2    # limite de exito o fracaso\n",
        "\n",
        "    x = generador_lanzamiento(a,b)  #Lanzamiento\n",
        "    flag = checker(x,c)             #Resultado\n",
        "    #print(\"2\",x,checker(x,c))\n",
        "    return flag\n",
        "\n",
        "# PROB FALLAR = 1/5\n",
        "# PROB ACERTAR = 4/5\n",
        "def paso3():\n",
        "\n",
        "    #Limites\n",
        "    a = 1    # rango inferior\n",
        "    b = 5    # rango superior\n",
        "    c = 1    # limite de exito o fracaso\n",
        "\n",
        "    x = generador_lanzamiento(a,b)  #Lanzamiento\n",
        "    flag = checker(x,c)             #Resultado\n",
        "    #print(\"3\",x,checker(x,c))\n",
        "    return flag\n",
        "\n",
        "# PROB FALLAR = 1/3\n",
        "# PROB ACERTAR = 2/3\n",
        "def paso4():\n",
        "\n",
        "    #Limites\n",
        "    a = 1    # rango inferior\n",
        "    b = 3    # rango superior\n",
        "    c = 1    # limite de exito o fracaso\n",
        "    \n",
        "    x = generador_lanzamiento(a,b)  #Lanzamiento  \n",
        "    flag = checker(x,c)             #Resultado\n",
        "    #print(\"4\",x,checker(x,c))      \n",
        "    return flag\n",
        "\n",
        "# PROB FALLAR = 7/10\n",
        "# PROB ACERTAR = 3/10\n",
        "def paso5():\n",
        "\n",
        "    #Limites\n",
        "    a = 1    # rango inferior\n",
        "    b = 10    # rango superior\n",
        "    c = 7    # limite de exito o fracaso\n",
        "\n",
        "    x = generador_lanzamiento(a,b)  #Lanzamiento\n",
        "    flag = checker(x,c)             #Resultado\n",
        "    #print(\"5\",x,checker(x,c))\n",
        "    return flag\n",
        "\n",
        "#print(\"cant fallos\",maquina())"
      ],
      "execution_count": 28,
      "outputs": []
    },
    {
      "cell_type": "markdown",
      "metadata": {
        "id": "W9yo7I3TwPeT"
      },
      "source": [
        "---\n",
        "\n",
        "\n",
        "A partir de las funciones donde se programa cada paso se construye la máquina, donde la variable **n** almacena la cantidad de intentos que se efectuaron hasta que se logra encender la tv. \n",
        "\n",
        "\n",
        "---\n",
        "\n"
      ]
    },
    {
      "cell_type": "code",
      "metadata": {
        "id": "oiLiX9C6wAIf"
      },
      "source": [
        "#Funcion que simula la maquina, retorna la cantidad de veces \n",
        "#que se puso en funcionamiento hasta encender la tv\n",
        "def maquina():\n",
        "\n",
        "    n = 1\n",
        "    flag = False\n",
        "\n",
        "    while (flag==False) :\n",
        "        if paso1()==True :\n",
        "            if paso2()==True:\n",
        "                if paso3()==True:\n",
        "                    if paso4()==True:\n",
        "                        if paso5()==True:\n",
        "                            flag = True \n",
        "                        else:\n",
        "                            n+=1\n",
        "                    else:\n",
        "                        n+=1\n",
        "                else:\n",
        "                    n+=1\n",
        "            else:\n",
        "                n+=1\n",
        "        else:\n",
        "            n+=1\n",
        "    return n"
      ],
      "execution_count": 45,
      "outputs": []
    },
    {
      "cell_type": "markdown",
      "metadata": {
        "id": "epjphgdKxXpP"
      },
      "source": [
        "---\n",
        "Finalmente se estima el promedio de intentos efectuados hasta que la máquina funcione, para ello se realizan 100 pruebas, cada resultado se guarda en el array **resultados** y sobre este se calcula el promedio de intentos.\n",
        "\n",
        "\n",
        "---\n",
        "\n"
      ]
    },
    {
      "cell_type": "code",
      "metadata": {
        "id": "ip1AQQ-NxKRx",
        "colab": {
          "base_uri": "https://localhost:8080/"
        },
        "outputId": "f5965228-5af7-4ce8-a1be-7f281d3c0311"
      },
      "source": [
        "pruebas = 100       #Cant de pruebas\n",
        "resultados = []     #Array para almacenar los resultados de cada prueba\n",
        "i = 0\n",
        "while i<pruebas :\n",
        "    resultados.append(maquina())\n",
        "    i+=1\n",
        "\n",
        "media = np.mean(resultados)  #Media de cant intentos hasta que funcionó por primera vez\n",
        "print(media)"
      ],
      "execution_count": 46,
      "outputs": [
        {
          "output_type": "stream",
          "text": [
            "15.62\n"
          ],
          "name": "stdout"
        }
      ]
    },
    {
      "cell_type": "markdown",
      "metadata": {
        "id": "RcIjyUuMUNX4"
      },
      "source": [
        "Por otra parte, para realizar el gráfico mostrando la probabilidad de no tener éxito, se define un rango de bolitas a lanzar entre el 1 al 100, se cuenta cuantas de bolitas tuvieron exito al primer intento y cuantas de ellas fallaron. Por lo que se realizan 100 mediciones, en la primera se lanza una bolita y se calcula la probabilidad de fallo, luego se repite el proceso con dos, tres, cuatro, hasta cien bolitas. Cada probabilidad de fallo se guarda en el arreglo **prob_fallos**. Finalmente se realiza el gráfico de cantidad de bolitas vs probabilidad de fallos."
      ]
    },
    {
      "cell_type": "code",
      "metadata": {
        "colab": {
          "base_uri": "https://localhost:8080/",
          "height": 317
        },
        "id": "P2GqJYODVmHv",
        "outputId": "f3f9ecfe-5536-4886-defd-127a6686f04e"
      },
      "source": [
        "prob_fallos = []\n",
        "\n",
        "for bolitas in range(1,101,1):\n",
        "    exito = 0\n",
        "    fallo = 0\n",
        "    i = 0\n",
        "    while i<bolitas :\n",
        "        if paso1()==True :\n",
        "            if paso2()==True:\n",
        "                if paso3()==True:\n",
        "                    if paso4()==True:\n",
        "                        if paso5()==True:\n",
        "                            exito+=1 \n",
        "                            i+=1\n",
        "                        else:\n",
        "                            fallo+=1\n",
        "                            i+=1\n",
        "                    else:\n",
        "                        fallo+=1\n",
        "                        i+=1\n",
        "                else:\n",
        "                    fallo+=1\n",
        "                    i+=1\n",
        "            else:\n",
        "                fallo+=1\n",
        "                i+=1\n",
        "        else:\n",
        "            fallo+=1\n",
        "            i+=1\n",
        "    prob_fallo = fallo/bolitas\n",
        "    prob_fallos.append(prob_fallo)\n",
        "    #print(fallo,exito, bolitas)\n",
        "\n",
        "print(prob_fallos)\n",
        "\n",
        "x = []\n",
        "\n",
        "for a in range(1,101,1):\n",
        "    x.append(a)\n",
        "\n",
        "plt.plot(x, prob_fallos)\n",
        "plt.xlabel(\"Cantidad de bolitas lanzadas\")\n",
        "plt.ylabel(\"Probabilidad de fallo\")\n",
        "plt.show()"
      ],
      "execution_count": 50,
      "outputs": [
        {
          "output_type": "stream",
          "text": [
            "[1.0, 1.0, 1.0, 0.75, 1.0, 1.0, 0.8571428571428571, 1.0, 0.8888888888888888, 1.0, 1.0, 1.0, 0.9230769230769231, 1.0, 0.8666666666666667, 0.9375, 0.8235294117647058, 0.8888888888888888, 0.9473684210526315, 0.95, 0.9047619047619048, 1.0, 1.0, 0.9166666666666666, 0.96, 0.9615384615384616, 0.9629629629629629, 0.9642857142857143, 1.0, 0.9333333333333333, 0.967741935483871, 0.90625, 0.9090909090909091, 0.9117647058823529, 0.8857142857142857, 0.8333333333333334, 0.8918918918918919, 0.9473684210526315, 0.9230769230769231, 0.95, 0.926829268292683, 0.9761904761904762, 0.9534883720930233, 0.9545454545454546, 0.9555555555555556, 0.9565217391304348, 0.9361702127659575, 0.9583333333333334, 0.9591836734693877, 0.98, 0.9411764705882353, 0.9423076923076923, 0.9056603773584906, 0.9259259259259259, 0.8909090909090909, 0.9642857142857143, 0.9824561403508771, 0.9482758620689655, 0.9661016949152542, 0.9666666666666667, 0.9508196721311475, 1.0, 0.9206349206349206, 0.96875, 0.9538461538461539, 0.9848484848484849, 0.9253731343283582, 0.9558823529411765, 0.9565217391304348, 0.8857142857142857, 0.9295774647887324, 0.9305555555555556, 0.9315068493150684, 0.972972972972973, 0.9066666666666666, 0.9605263157894737, 0.948051948051948, 0.9743589743589743, 0.9113924050632911, 0.8875, 0.9382716049382716, 0.975609756097561, 0.8795180722891566, 0.9523809523809523, 0.9294117647058824, 0.9302325581395349, 0.9310344827586207, 0.9431818181818182, 0.9325842696629213, 0.9, 0.967032967032967, 0.9021739130434783, 0.9247311827956989, 0.9574468085106383, 0.9052631578947369, 0.9270833333333334, 0.9381443298969072, 0.9489795918367347, 0.9393939393939394, 0.89]\n"
          ],
          "name": "stdout"
        },
        {
          "output_type": "display_data",
          "data": {
            "image/png": "[encoded data removed]",
            "text/plain": [
              "<Figure size 432x288 with 1 Axes>"
            ]
          },
          "metadata": {
            "tags": [],
            "needs_background": "light"
          }
        }
      ]
    },
    {
      "cell_type": "markdown",
      "metadata": {
        "id": "qKRnn-49s6uj"
      },
      "source": [
        "Del gráfico podemos observar que durante las primeras 20 bolitas lanzadas, la probabilidad de fallo varia drásticamente entre 1 y 0,75 en los primeros intentos, a medida que se avanza en la cantidad de lanzamientos, en el rango [20,40] oscila entre un 1 y 0,85 de probabilidad, tomando un poco más de estabilidad, para luego en el rango [40,60] tender a la probabilidad de 0.90 o 0.95, esto quiere decir que entre más bolitas sean lanzadas, los valores de la probabilidad de fallo convergeran a un rango más limitado."
      ]
    },
    {
      "cell_type": "markdown",
      "metadata": {
        "id": "fmMfQl9Axuir"
      },
      "source": [
        "> b) Si usted cuenta con 1000 bolitas, estime tanto téorica como empíricamente cuántas bolitas fallan en cada etapa. Compare sus resultados obtenidos haciendo un histograma para cada método y concluya sobre estos.\n",
        "\n",
        "*Recuerde que habrá una cantidad de bolitas que no fallarán*"
      ]
    },
    {
      "cell_type": "markdown",
      "metadata": {
        "id": "VYo4QHlr-KXo"
      },
      "source": [
        "* Para calcular la cantidad teórica de bolitas que fallan en cada etapa se tiene lo siguiente: \n",
        "\n",
        "\\\\\n",
        "\n",
        "$$|bolitas|=1000$$\n",
        "$$P(PF_1) = \\frac{2}{5}$$ \n",
        "$$P(PE_1) = \\frac{3}{5}$$ \n",
        "\n",
        "\\\\\n",
        "\n",
        "* Sabiendo esto, la cantidad teórica $\\alpha$ de bolitas que fallan en la primera etapa esta dado por:\n",
        "\n",
        "\\\\\n",
        "\n",
        "$$P(PF_1) = \\frac{\\alpha}{|bolitas|} \\rightarrow \\alpha = P(PF_1) \\cdot |bolitas| \\rightarrow \\alpha = \\frac{2}{5} \\cdot 1000 = 400$$\n",
        "\n",
        "$$\\alpha = 400$$\n",
        "\n",
        "\\\\\n",
        "\n",
        "* Luego para calcular la cantidad teórica $\\beta$ de bolitas que fallan en la primera etapa, se tiene que calcular la probabilidad de bolitas que fallan en el segundo paso, para eso se debe múltiplicar la probabilidad de éxito en el primer paso $P(PE_1)$ por la probabilidad de fallar localmente $(f)$ en el segundo paso $P(Pf_2)$  : \n",
        "\n",
        "\\\\\n",
        "\n",
        "$$P(PF_2) =  P(PE_1) \\cdot P(Pf_2) =  \\frac{3}{5} \\cdot \\frac{2}{5} = 0.24$$\n",
        "\n",
        "\\\\\n",
        "\n",
        "* La cantidad teórica de bolitas $\\beta$ que fallan en el segundo paso esta dado por :\n",
        "\n",
        "\\\\\n",
        "\n",
        "$$ \\beta = P(PF_2) \\cdot |bolitas| \\rightarrow \\beta = 0.24 \\cdot 1000 = 240  $$\n",
        "\n",
        "$$\\beta = 240$$\n",
        "\n",
        "\\\\\n",
        "\n",
        "* Ahora, para calcular la cantidad teórica $\\gamma$ de bolitas que fallan en la tercera etapa es necesario obtener la probabilidad de fallar en esta estapa, esto esta dado por la probabilidad de éxito en el primer y segundo paso por la probabilidad local de fracasar en el paso 3, esto esta definido en la siguiente ecuación: \n",
        "\n",
        "\\\\\n",
        "\n",
        "$$P(PF_3) =  P(PE_1) \\cdot P(PE_2) \\cdot P(Pf_3) =  \\frac{3}{5} \\cdot \\frac{3}{5} \\cdot \\frac{1}{5} = 0.072$$\n",
        "\n",
        "\\\\\n",
        "\n",
        "* Por lo tanto, la cantidad teórica de bolitas $\\gamma$ que fallan en el tercer paso esta dado por :\n",
        "\n",
        "\\\\\n",
        "\n",
        "$$ \\gamma = P(PF_3) \\cdot |bolitas| \\rightarrow \\gamma = 0.072 \\cdot 1000 = 72  $$\n",
        "\n",
        "$$\\gamma = 72$$\n",
        "\n",
        "\\\\\n",
        "\n",
        "* De manera análoga, para obtener la cantidad teórica de bolitas que fallan en el cuarto paso, primero se debe obtener la probabilidad de fracasar en este punto, esto es múltiplicar la probabilidad de éxito en el primer, segundo y tercer paso por la probabilidad de fracasar localmente en el cuarto paso:\n",
        "\n",
        "\\\\\n",
        "\n",
        "$$P(PF_4) =  P(PE_1) \\cdot P(PE_2) \\cdot P(PE_3) \\cdot P(Pf_4) =  \\frac{3}{5} \\cdot \\frac{3}{5} \\cdot \\frac{4}{5} \\cdot \\frac{1}{3} = 0.096$$\n",
        "\n",
        "\\\\\n",
        "\n",
        "* Luego, la cantidad teórica de bolitas $\\theta$ que fallan en el cuarto paso esta dado por :\n",
        "\n",
        "\\\\\n",
        "\n",
        "$$ \\theta = P(PF_4) \\cdot |bolitas| \\rightarrow \\theta =  0.096 \\cdot 1000 = 96  $$\n",
        "\n",
        "$$\\theta = 96$$\n",
        "\n",
        "\\\\\n",
        "\n",
        "* Finalmente, se debe calcular la probabilidad de fallo en el quinto paso para luego obtener la cantidad de bolitas que fracasan en este punto. Esta probabilidad se calcula multiplicando la probabilidad de éxito del primer, segundo, tercer y cuarto paso, además de la probabilidad de fracasar localmente en el quinto paso :\n",
        "\n",
        "\\\\\n",
        "\n",
        "$$P(PF_5) =  P(PE_1) \\cdot P(PE_2) \\cdot P(PE_3) \\cdot P(PE_4) \\cdot P(Pf_5) =  \\frac{3}{5} \\cdot \\frac{3}{5} \\cdot \\frac{4}{5} \\cdot \\frac{2}{3} \\cdot \\frac{7}{10}= 0.134$$\n",
        "\n",
        "\\\\\n",
        "\n",
        "* Luego, la cantidad teórica de bolitas $\\lambda$ que fallan en el cuarto paso esta dado por :\n",
        "\n",
        "\\\\\n",
        "\n",
        "$$ \\lambda = P(PF_4) \\cdot |bolitas| \\rightarrow \\lambda =  0.134 \\cdot 1000 = 134  $$\n",
        "\n",
        "$$\\lambda = 134$$\n",
        "\n",
        "\\\\"
      ]
    },
    {
      "cell_type": "code",
      "metadata": {
        "id": "cV2hXM1fxuir",
        "colab": {
          "base_uri": "https://localhost:8080/"
        },
        "outputId": "735b1a1c-c3b3-43af-862d-2e0af56131f2"
      },
      "source": [
        "#Array de fallos según el paso\n",
        "fallos_p = [0,0,0,0,0]\n",
        "bolitas = 1000\n",
        "exito = 0\n",
        "i = 0\n",
        "\n",
        "while i<bolitas :\n",
        "    if paso1()==True :\n",
        "        if paso2()==True:\n",
        "            if paso3()==True:\n",
        "                if paso4()==True:\n",
        "                    if paso5()==True:\n",
        "                        exito+=1\n",
        "                        i+=1\n",
        "                    else:\n",
        "                        fallos_p[4]+=1\n",
        "                        i+=1\n",
        "                else:\n",
        "                    fallos_p[3]+=1\n",
        "                    i+=1\n",
        "            else:\n",
        "                fallos_p[2]+=1\n",
        "                i+=1\n",
        "        else:\n",
        "            fallos_p[1]+=1\n",
        "            i+=1\n",
        "    else:\n",
        "        fallos_p[0]+=1\n",
        "        i+=1\n",
        "\n",
        "#print(fallos_p)\n",
        "print(\"Cantidad empírica de bolitas que fallan en el 1° paso:\", fallos_p[0])\n",
        "print(\"Probabilidad empírica de fallo en el 1° paso:\", fallos_p[0]/bolitas)\n",
        "print(\"\\n\")\n",
        "\n",
        "print(\"Cantidad empírica de bolitas que fallan en el 2° paso:\", fallos_p[1])\n",
        "print(\"Probabilidad empírica de fallo en el 2° paso:\", fallos_p[1]/bolitas)\n",
        "print(\"\\n\")\n",
        "\n",
        "print(\"Cantidad empírica de bolitas que fallan en el 3° paso:\", fallos_p[2])\n",
        "print(\"Probabilidad empírica de fallo en el 3° paso:\", fallos_p[2]/bolitas)\n",
        "print(\"\\n\")\n",
        "\n",
        "print(\"Cantidad empírica de bolitas que fallan en el 4° paso:\", fallos_p[3])\n",
        "print(\"Probabilidad empírica de fallo en el 4° paso:\", fallos_p[3]/bolitas)\n",
        "print(\"\\n\")\n",
        "\n",
        "print(\"Cantidad empírica de bolitas que fallan en el 5° paso:\", fallos_p[4])\n",
        "print(\"Probabilidad empírica de fallo en el 5° paso:\", fallos_p[4]/bolitas)\n",
        "\n"
      ],
      "execution_count": 32,
      "outputs": [
        {
          "output_type": "stream",
          "text": [
            "Cantidad empírica de bolitas que fallan en el 1° paso: 391\n",
            "Probabilidad empírica de fallo en el 1° paso: 0.391\n",
            "\n",
            "\n",
            "Cantidad empírica de bolitas que fallan en el 2° paso: 242\n",
            "Probabilidad empírica de fallo en el 2° paso: 0.242\n",
            "\n",
            "\n",
            "Cantidad empírica de bolitas que fallan en el 3° paso: 75\n",
            "Probabilidad empírica de fallo en el 3° paso: 0.075\n",
            "\n",
            "\n",
            "Cantidad empírica de bolitas que fallan en el 4° paso: 90\n",
            "Probabilidad empírica de fallo en el 4° paso: 0.09\n",
            "\n",
            "\n",
            "Cantidad empírica de bolitas que fallan en el 5° paso: 134\n",
            "Probabilidad empírica de fallo en el 5° paso: 0.134\n"
          ],
          "name": "stdout"
        }
      ]
    },
    {
      "cell_type": "markdown",
      "metadata": {
        "id": "fQ9MIy3cWche"
      },
      "source": [
        "Con el código anterior se calcula la probabilidad y cantidad empírica de bolitas que fallan en cada paso, con una muestra de 1000 es posible notar como los valores empirícos tienen una diferencia entre 4 unidades a 19 unidades de los valores teóricos, pero si se aumenta de manera considerable la cantidad de bolitas entonces las cantidades y probabilidades empíricas calculadas anteriormente convergen en los valores teóricos."
      ]
    },
    {
      "cell_type": "code",
      "metadata": {
        "colab": {
          "base_uri": "https://localhost:8080/",
          "height": 573
        },
        "id": "cgU9TWxIf-5G",
        "outputId": "80283cdc-3283-42c5-a459-ccde29cab142"
      },
      "source": [
        "muestra_t = []\n",
        "muestra_e = []\n",
        "\n",
        "for i in range(fallos_p[0]+1):\n",
        "    muestra_e.append(1)\n",
        "for i in range(fallos_p[1]+1):\n",
        "    muestra_e.append(2)\n",
        "for i in range(fallos_p[2]+1):\n",
        "    muestra_e.append(3)\n",
        "for i in range(fallos_p[3]+1):\n",
        "    muestra_e.append(4)\n",
        "for i in range(fallos_p[4]+1):\n",
        "    muestra_e.append(5)\n",
        "\n",
        "for i in range(400+1):\n",
        "    muestra_t.append(1)\n",
        "for i in range(240+1):\n",
        "    muestra_t.append(2)\n",
        "for i in range(72+1):\n",
        "    muestra_t.append(3)\n",
        "for i in range(96+1):\n",
        "    muestra_t.append(4)\n",
        "for i in range(134+1):\n",
        "    muestra_t.append(5)\n",
        "\n",
        "\n",
        "fig,ax = plt.subplots(1,1)\n",
        "ax.hist(muestra_t, bins = 5, edgecolor=\"black\", facecolor='blue', alpha=0.5)\n",
        "ax.set_title(\"Histograma cantidad teórica de bolitas que fallan\")\n",
        "ax.set_xticks([1,2,3,4,5])\n",
        "ax.set_xlabel('Pasos')\n",
        "ax.set_ylabel('Cantidad de bolitas que fallan')\n",
        "plt.show()\n",
        "\n",
        "\n",
        "fig,ax = plt.subplots(1,1)\n",
        "ax.hist(muestra_e, bins = 5, edgecolor=\"black\", facecolor='blue', alpha=0.5)\n",
        "ax.set_title(\"Histograma cantidad empírica de bolitas que fallan\")\n",
        "ax.set_xticks([1,2,3,4,5])\n",
        "ax.set_xlabel('Pasos')\n",
        "ax.set_ylabel('Cantidad de bolitas que fallan')\n",
        "plt.show()"
      ],
      "execution_count": 49,
      "outputs": [
        {
          "output_type": "display_data",
          "data": {
            "image/png": "[encoded data removed]",
            "text/plain": [
              "<Figure size 432x288 with 1 Axes>"
            ]
          },
          "metadata": {
            "tags": [],
            "needs_background": "light"
          }
        },
        {
          "output_type": "display_data",
          "data": {
            "image/png": "[encoded data removed]",
            "text/plain": [
              "<Figure size 432x288 with 1 Axes>"
            ]
          },
          "metadata": {
            "tags": [],
            "needs_background": "light"
          }
        }
      ]
    },
    {
      "cell_type": "markdown",
      "metadata": {
        "id": "OzUVLp9xlUHl"
      },
      "source": [
        "Viendo los histogramas de probilidad teórica y empírica podemos oberservar que la cantidad empírica en cada paso es muy similar a la cantidad teórica calculada, de tal forma que incluso cuesta ver si existe diferencias. Con diagramas"
      ]
    },
    {
      "cell_type": "markdown",
      "metadata": {
        "id": "RAeV9iYHxuir"
      },
      "source": [
        "> c) Determine la probabilidad de cada posible escenario que rige este fenómeno según todos los estados posibles de la bolita"
      ]
    },
    {
      "cell_type": "markdown",
      "metadata": {
        "id": "W2AVIwAUv3wL"
      },
      "source": [
        "Existen 6 estados posibles para la bolita durante el transcurso del lanzamiento en la máquina, estos estan dado por la probabilidad de fracasar en cada paso, calculados en la pregunta b) y nombrados como $P(PF_x)$, con $x$ en el rango [1,5]. Pero solo fueron calculados 5 escenarios, el sexto escenario que se debe calcular es la probabilidad de tener éxito llegando al quinto paso sin problemas, esta probabilidad se puede calcular teóricamente de la siguiente forma:\n",
        "\n",
        "\\\\\n"
      ]
    },
    {
      "cell_type": "code",
      "metadata": {
        "id": "V915Z7XAxuit",
        "colab": {
          "base_uri": "https://localhost:8080/"
        },
        "outputId": "6f07c135-b2de-4b43-b857-7165418d6e37"
      },
      "source": [
        "pe_1 = 3/5   #Prob éxito paso 1\n",
        "pe_2 = 3/5   #Prob éxito paso 2\n",
        "pe_3 = 4/5   #Prob éxito paso 3\n",
        "pe_4 = 2/3   #Prob éxito paso 4\n",
        "pe_5 = 3/10  #Prob éxito paso 5\n",
        "\n",
        "pe_total = pe_1 * pe_2 * pe_3 * pe_4 * pe_5\n",
        "print(\"Probabilidad de éxito total: \",round(pe_total,3))"
      ],
      "execution_count": 60,
      "outputs": [
        {
          "output_type": "stream",
          "text": [
            "Probabilidad de éxito total:  0.058\n"
          ],
          "name": "stdout"
        }
      ]
    },
    {
      "cell_type": "markdown",
      "metadata": {
        "id": "2ahCn9ybC7ai"
      },
      "source": [
        "Los 6 escenarios posibles, con sus probabilidades resepectivas son los siguientes:\n",
        "\n",
        "\n",
        "*   $$P(PF_1) = 0.4$$\n",
        "*   $$P(PF_2) = 0.24$$\n",
        "*   $$P(PF_3) = 0.072$$\n",
        "*   $$P(PF_4) = 0.096$$\n",
        "*   $$P(PF_5) = 0.134$$\n",
        "*   $$P(PE) = 0.058$$\n",
        "\n",
        "\n",
        "\n",
        "\n",
        "\n",
        "\n",
        "\n",
        "\n"
      ]
    },
    {
      "cell_type": "markdown",
      "metadata": {
        "id": "8JpqBgTZxuit"
      },
      "source": [
        "## Reglas del Juego y Comentarios \n",
        "\n",
        "+ Errores ortográficos, de redacción y oraciones ambiguas descontarán parte de su puntaje.\n",
        "+ La versión de Python que se usará para revisar es 3.6.8\n",
        "+ Código comentado para facilitar entendimiento.\n",
        "+ La fecha de entrega será hasta el viernes 30 de abril a las 23:55 hrs, pero se aceptarán atrasos hasta el sábado a las 23:55 hrs sin descuento.\n",
        "+ Sea formal y claro con su respuesta, **explique su procedimiento y luego responda en su video.** \n",
        "+ Defina bien las secciones de su notebook, el orden siempre es bueno :) [Tips para usar Markdown](https://github.com/adam-p/markdown-here/wiki/Markdown-Cheatsheet)"
      ]
    },
    {
      "cell_type": "code",
      "metadata": {
        "id": "Jh1rnb29xuit"
      },
      "source": [
        ""
      ],
      "execution_count": 33,
      "outputs": []
    }
  ]
}