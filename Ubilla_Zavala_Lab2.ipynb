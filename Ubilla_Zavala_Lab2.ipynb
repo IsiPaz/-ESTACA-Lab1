{
  "nbformat": 4,
  "nbformat_minor": 0,
  "metadata": {
    "kernelspec": {
      "display_name": "Python 3",
      "language": "python",
      "name": "python3"
    },
    "language_info": {
      "codemirror_mode": {
        "name": "ipython",
        "version": 3
      },
      "file_extension": ".py",
      "mimetype": "text/x-python",
      "name": "python",
      "nbconvert_exporter": "python",
      "pygments_lexer": "ipython3",
      "version": "3.9.4"
    },
    "colab": {
      "name": "Ubilla_Zavala_Lab2.ipynb",
      "provenance": [],
      "collapsed_sections": []
    }
  },
  "cells": [
    {
      "cell_type": "markdown",
      "metadata": {
        "id": "u9igPPPy59NF"
      },
      "source": [
        "<img src=\"img/dilogo.png\" style=\"float:left;height:100px\"></th>\n",
        "<img src=\"img/usmlogo.png\" style=\"float:right;height:85px\"></th>\n",
        "<h1 align=\"center\">Laboratorio 1</h1>\n",
        "    <h2 align=\"center\">Profesores: Ricardo Ñanculef y Francisco Mena</h2>\n",
        "    <h2 align=\"center\">Ayudantes </h2>\n",
        "    <h2 align=\"center\">Joaquín Castillo | Lucio Fondón </h2>\n",
        "    <h3 align=\"center\">joaquin.castillot@sansano.usm.cl | lucio.fondon@sansano.usm.cl</h3>  \n",
        "    <h3 align=\"center\">Isidora Ubilla Zavala</h3>\n",
        "    <h3 align=\"center\">201804581-0</h3>\n",
        "    <h3 align=\"center\">2021-1</h3>"
      ]
    },
    {
      "cell_type": "markdown",
      "metadata": {
        "id": "YsYhG3re59NI"
      },
      "source": [
        "# Link: https://youtu.be/kO5PaLNS6uQ\n"
      ]
    },
    {
      "cell_type": "markdown",
      "metadata": {
        "id": "t7o7qT6p59NJ"
      },
      "source": [
        "## Instrucciones\n",
        "\n",
        "La modalidad de trabajo será mediante el uso de jupyter notebook. El notebook debe ser desarrollado individualmente.\n",
        "\n",
        "La **modalidad de entrega será un archivo Apellido1_Apellido2_Lab2.zip** que contenga un notebook que incluya todas las preguntas con sus respectivas respuestas y el link a su video explicativo + un README que indique la forma correcta de ejecutar su notebook. El laboratorio debe ser trabajado en Python 3. Lea bien el enunciado.\n",
        "\n",
        "\n",
        "**Cualquier copia detectada implicará nota 0 en el laboratorio correspondiente y se notificará la situación al profesor.**\n"
      ]
    },
    {
      "cell_type": "markdown",
      "metadata": {
        "id": "Etr6AqhK59NJ"
      },
      "source": [
        "## Reglas del Juego y Comentarios \n",
        "\n",
        "+ Errores ortográficos, de redacción y oraciones ambiguas descontarán parte de su puntaje.\n",
        "+ La versión de Python que se usará para revisar es 3.6.8\n",
        "+ Código comentado para facilitar entendimiento.\n",
        "+ La fecha de entrega será hasta el Domingo 6 de junio a las 23:55 hrs.\n",
        "+ Sea formal y claro con su respuesta, **explique su procedimiento y luego responda en su video.** \n",
        "+ Defina bien las secciones de su notebook, el orden siempre es bueno :) [Tips para usar Markdown](https://github.com/adam-p/markdown-here/wiki/Markdown-Cheatsheet)"
      ]
    },
    {
      "cell_type": "markdown",
      "metadata": {
        "id": "MM_ASd-459NJ"
      },
      "source": [
        "# Librerías"
      ]
    },
    {
      "cell_type": "code",
      "metadata": {
        "id": "6hlN_4gt59NK"
      },
      "source": [
        "import numpy as np\n",
        "import matplotlib.pyplot as plt\n",
        "from scipy import stats\n",
        "%matplotlib inline "
      ],
      "execution_count": null,
      "outputs": []
    },
    {
      "cell_type": "markdown",
      "metadata": {
        "id": "-5wq4vKh59NK"
      },
      "source": [
        "*Hint:* [Documentación](https://docs.scipy.org/doc/scipy/reference/generated/scipy.stats.expon.html) que les puede ser de ayuda."
      ]
    },
    {
      "cell_type": "markdown",
      "metadata": {
        "id": "5tUOsZ1B59NK"
      },
      "source": [
        "## Ley de los Grande Números\n",
        "\n",
        "En estadística, la ley de los grandes números engloba teoremas que describen el comportamiento del promedio de una distribución de variables aleatorias. La ley de los grandes números dice que, en pocas palabras, a medida que se aumenta el tamaño muestral el promedio de la distribución de variables aleatorias converge al promedio de la población completa.\n",
        "\n",
        "Un estudio realizado luego del Cyber Day, indica que el tiempo de espera en la cola virtual de la mayoría de tiendas digitales puede modelarse como una distribución Exponencial con parámetro: $\\lambda = 0.1$\n",
        "\n",
        ">a) **Utilizando las funciones provistas por los lenguajes** calcule la probabilida **teórica** de que un alumno espere a lo más 10 minutos, exactamente 20 minutos y más de 50 minutos.\n"
      ]
    },
    {
      "cell_type": "code",
      "metadata": {
        "colab": {
          "base_uri": "https://localhost:8080/"
        },
        "id": "KMf9V0I759NL",
        "outputId": "8f42aadd-36c1-4470-cd00-1072a077a9be"
      },
      "source": [
        "a = stats.expon.cdf(10,scale= 1/0.1)        # Probabilidad hasta el 10\n",
        "c = 1 - stats.expon.cdf(50,scale= 1/0.1)    # Probabilidad de esperar más de 50\n",
        "\n",
        "print(\"La probabilidad teórica de que un alumno espere a lo más 10 minutos es :%f\" %a)\n",
        "print(\"La probabilidad en un punto es cero para distribuciones coninuas, por lo tanto para exactamente 20 minutos la probabilidad teórica es 0 \")\n",
        "print(\"La probabilidad teórica de que un alumno espere más de 50 minutos es :%f\" %c)"
      ],
      "execution_count": null,
      "outputs": [
        {
          "output_type": "stream",
          "text": [
            "La probabilidad teórica de que un alumno espere a lo más 10 minutos es :0.632121\n",
            "La probabilidad en un punto es cero para distribuciones coninuas, por lo tanto para exactamente 20 minutos la probabilidad teórica es 0 \n",
            "La probabilidad teórica de que un alumno espere más de 50 minutos es :0.006738\n"
          ],
          "name": "stdout"
        }
      ]
    },
    {
      "cell_type": "markdown",
      "metadata": {
        "id": "yoW0KTMj59NL"
      },
      "source": [
        ">b) Ahora genere 4 muestras de dicha distribución exponencial, con tamaños n = 10, 100, 1000, 10000. Para cada una de estas muestras determine las mismas probabilidades calculadas en a) de manera empírica, comente sus resultados."
      ]
    },
    {
      "cell_type": "code",
      "metadata": {
        "colab": {
          "base_uri": "https://localhost:8080/"
        },
        "id": "xE_RsquG59NL",
        "outputId": "c235d499-5c95-4739-9815-f87d0b47d126"
      },
      "source": [
        "# Se generan 4 muestras de tamaño 10, 100, 1000, 10000 respectivamente\n",
        "rvs_10 = stats.expon.rvs(scale=1/0.1, size=10)\n",
        "rvs_100 = stats.expon.rvs(scale=1/0.1, size=100)\n",
        "rvs_1000 = stats.expon.rvs(scale=1/0.1, size=1000)\n",
        "rvs_10000 = stats.expon.rvs(scale=1/0.1, size=10000)\n",
        "\n",
        "_rvs_ = [rvs_10, rvs_100, rvs_1000, rvs_10000]\n",
        "probas = []  # tienen la forma  [[p10,p20,p50],[p10,p20,p50],[p10,p20,p50],[p10,p20,p50]]\n",
        "\n",
        "for i in _rvs_:   # por cada muestra\n",
        "    m_10 = []\n",
        "    m_20 = []\n",
        "    m_50 = []\n",
        "    \n",
        "    for u in i:   # por cada valor de la muestra-\n",
        "        if u <= 10:\n",
        "            m_10.append(u) \n",
        "        elif u == 20 :\n",
        "            m_20.append(u) \n",
        "        elif u > 50 : \n",
        "            m_50.append(u) \n",
        "    \n",
        "    p10 = len(m_10)/len(i)  # prob emp de menos de 10 mins\n",
        "    p20 = len(m_20)/len(i)  # prob esperar 20 mins\n",
        "    p50 = len(m_50)/len(i)  # prob más de 50 mins\n",
        "\n",
        "    prob = [p10,p20,p50]\n",
        "\n",
        "    probas.append(prob)\n",
        "\n",
        "\n",
        "print(\"Muestra 1 de tamaño 10\")\n",
        "print(\"La probabilidad empírica de que un alumno espere a lo más 10 minutos es :%f\" %probas[0][0])\n",
        "print(\"La probabilidad empírica de que un alumno exactamente 20 minutos es :%f\" %probas[0][1])\n",
        "print(\"La probabilidad empírica de que un alumno espere más de 50 minutos es :%f\" %probas[0][2])\n",
        "print(\"\\n\")\n",
        "print(\"Muestra 2 de tamaño 100\")\n",
        "print(\"La probabilidad empírica de que un alumno espere a lo más 10 minutos es :%f\" %probas[1][0])\n",
        "print(\"La probabilidad empírica de que un alumno exactamente 20 minutos es :%f\" %probas[1][1])\n",
        "print(\"La probabilidad empírica de que un alumno espere más de 50 minutos es :%f\" %probas[1][2])\n",
        "print(\"\\n\")\n",
        "print(\"Muestra 3 de tamaño 1000\")\n",
        "print(\"La probabilidad empírica de que un alumno espere a lo más 10 minutos es :%f\" %probas[2][0])\n",
        "print(\"La probabilidad empírica de que un alumno exactamente 20 minutos es :%f\" %probas[2][1])\n",
        "print(\"La probabilidad empírica de que un alumno espere más de 50 minutos es :%f\" %probas[2][2])\n",
        "print(\"\\n\")\n",
        "print(\"Muestra 4 de tamaño 10000\")\n",
        "print(\"La probabilidad empírica de que un alumno espere a lo más 10 minutos es :%f\" %probas[3][0])\n",
        "print(\"La probabilidad empírica de que un alumno exactamente 20 minutos es :%f\" %probas[3][1])\n",
        "print(\"La probabilidad empírica de que un alumno espere más de 50 minutos es :%f\" %probas[3][2])"
      ],
      "execution_count": null,
      "outputs": [
        {
          "output_type": "stream",
          "text": [
            "Muestra 1 de tamaño 10\n",
            "La probabilidad empírica de que un alumno espere a lo más 10 minutos es :0.500000\n",
            "La probabilidad empírica de que un alumno exactamente 20 minutos es :0.000000\n",
            "La probabilidad empírica de que un alumno espere más de 50 minutos es :0.000000\n",
            "\n",
            "\n",
            "Muestra 2 de tamaño 100\n",
            "La probabilidad empírica de que un alumno espere a lo más 10 minutos es :0.660000\n",
            "La probabilidad empírica de que un alumno exactamente 20 minutos es :0.000000\n",
            "La probabilidad empírica de que un alumno espere más de 50 minutos es :0.010000\n",
            "\n",
            "\n",
            "Muestra 3 de tamaño 1000\n",
            "La probabilidad empírica de que un alumno espere a lo más 10 minutos es :0.624000\n",
            "La probabilidad empírica de que un alumno exactamente 20 minutos es :0.000000\n",
            "La probabilidad empírica de que un alumno espere más de 50 minutos es :0.010000\n",
            "\n",
            "\n",
            "Muestra 4 de tamaño 10000\n",
            "La probabilidad empírica de que un alumno espere a lo más 10 minutos es :0.631100\n",
            "La probabilidad empírica de que un alumno exactamente 20 minutos es :0.000000\n",
            "La probabilidad empírica de que un alumno espere más de 50 minutos es :0.007900\n"
          ],
          "name": "stdout"
        }
      ]
    },
    {
      "cell_type": "markdown",
      "metadata": {
        "id": "HOzASkrs59NM"
      },
      "source": [
        ">c) ¿Cuál debería ser la media **teórica** de todas estas distribuciones? ¿Y cuál es la empírica? ¿Si difieren o son iguales a qué se debe esto?"
      ]
    },
    {
      "cell_type": "code",
      "metadata": {
        "colab": {
          "base_uri": "https://localhost:8080/"
        },
        "id": "yNigvbYI59NM",
        "outputId": "4eaf4ac5-a8bb-499e-cbf6-fa443ef887bb"
      },
      "source": [
        "mediaT = stats.expon.mean(scale = 1/0.1)\n",
        "print(\"La media teórica es: \",mediaT)\n",
        "print(\"La media empirica de la muestra 1 de tamaño 10 es de: \", sum(_rvs_[0])/10)\n",
        "print(\"La media empirica de la muestra 2 de tamaño 100 es de: \", sum(_rvs_[1])/100)\n",
        "print(\"La media empirica de la muestra 3 de tamaño 1000 es de: \", sum(_rvs_[2])/1000)\n",
        "print(\"La media empirica de la muestra 4 de tamaño 10000 es de: \", sum(_rvs_[3])/10000)"
      ],
      "execution_count": null,
      "outputs": [
        {
          "output_type": "stream",
          "text": [
            "La media teórica es:  10.0\n",
            "La media empirica de la muestra 1 de tamaño 10 es de:  10.811774265118121\n",
            "La media empirica de la muestra 2 de tamaño 100 es de:  10.529005191677212\n",
            "La media empirica de la muestra 3 de tamaño 1000 es de:  10.035601816357428\n",
            "La media empirica de la muestra 4 de tamaño 10000 es de:  10.05696944754831\n"
          ],
          "name": "stdout"
        }
      ]
    },
    {
      "cell_type": "markdown",
      "metadata": {
        "id": "xFVRo-Qg59NM"
      },
      "source": [
        ">d) Genere **un** gráfico de 4 boxplot (1 de cada distribución) y compárelos. Comente lo que observa y concluya respecto a la ley de los grandes números."
      ]
    },
    {
      "cell_type": "code",
      "metadata": {
        "id": "RXEyxe5559NM",
        "colab": {
          "base_uri": "https://localhost:8080/",
          "height": 624
        },
        "outputId": "fd4118ed-9e2a-4087-98ed-51f44a0c9a61"
      },
      "source": [
        "#Datos\n",
        "data = [_rvs_[0], _rvs_[1], _rvs_[2], _rvs_[3]]\n",
        "labels = [\"M1\",\"M2\",\"M3\", \"M4\"]\n",
        "\n",
        "fig = plt.figure(figsize =(9, 9))\n",
        "\n",
        "#Nombres\n",
        "plt.title(\"Diagrama de Cajas de Distribución exponencial\")\n",
        "plt.boxplot(data,labels=labels)\n",
        "\n",
        "plt.legend()\n",
        "plt.show()\n"
      ],
      "execution_count": null,
      "outputs": [
        {
          "output_type": "stream",
          "text": [
            "/usr/local/lib/python3.7/dist-packages/numpy/core/_asarray.py:83: VisibleDeprecationWarning: Creating an ndarray from ragged nested sequences (which is a list-or-tuple of lists-or-tuples-or ndarrays with different lengths or shapes) is deprecated. If you meant to do this, you must specify 'dtype=object' when creating the ndarray\n",
            "  return array(a, dtype, copy=False, order=order)\n",
            "No handles with labels found to put in legend.\n"
          ],
          "name": "stderr"
        },
        {
          "output_type": "display_data",
          "data": {
            "image/png": "[encoded data removed]",
            "text/plain": [
              "<Figure size 648x648 with 1 Axes>"
            ]
          },
          "metadata": {
            "tags": [],
            "needs_background": "light"
          }
        }
      ]
    },
    {
      "cell_type": "markdown",
      "metadata": {
        "id": "ueP7BlnCx9QO"
      },
      "source": [
        "Del gráfico de cajas anterior es posible notar que a mayor tamaño de la muestra las medianas desde M1 a M2, M3 y M4 van convergiendo al valor teórico encontrado en c), es decir, a 10, además es posible notar una mayor cantidad de outliers a medida que aumenta la cantidad de datos en la muestra, sin embargo la media de la distribución se mantiene concentrada al rededor de 10, a mayor cantidad de datos veremos mayor precisión para este valor y con esto queda demostrado la ley de grandes números."
      ]
    }
  ]
}